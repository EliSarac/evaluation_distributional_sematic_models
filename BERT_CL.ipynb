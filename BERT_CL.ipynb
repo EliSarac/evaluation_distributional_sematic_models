{
 "cells": [
  {
   "cell_type": "code",
   "execution_count": null,
   "id": "1ed730ff",
   "metadata": {},
   "outputs": [],
   "source": [
    "import torch\n",
    "from transformers import BertTokenizer, BertModel\n"
   ]
  },
  {
   "cell_type": "code",
   "execution_count": null,
   "id": "5683894c",
   "metadata": {},
   "outputs": [],
   "source": [
    "# Load pre-trained model tokenizer (vocabulary)\n",
    "tokenizer = BertTokenizer.from_pretrained('bert-base-uncased')\n",
    "# Load pre-trained model (weights)\n",
    "model = BertModel.from_pretrained('bert-base-uncased', output_hidden_states = True )\n",
    "# Put the model in \"evaluation\" mode, meaning feed-forward operation.\n",
    "model.eval()"
   ]
  },
  {
   "cell_type": "code",
   "execution_count": null,
   "id": "2a20a8fb",
   "metadata": {},
   "outputs": [],
   "source": [
    "def bert_vector(text):\n",
    "    #---Add special tokens\n",
    "    marked_text = '[CLS] '+text+' [SEP]'\n",
    "    #---Split the sentence\n",
    "    tokenized_text = tokenizer.tokenize(marked_text) \n",
    "    #--- Map the token strings to their vocabulary indeces\n",
    "    indexed_tokens = tokenizer.convert_tokens_to_ids(tokenized_text)\n",
    "    # Mark each of the 3 tokens as belonging to sentence \"1\"\n",
    "    segment_ids = [1]*len(tokenized_text)\n",
    "    # Convert inputs to PyTorch tensors\n",
    "    tokens_tensor = torch.tensor([indexed_tokens])\n",
    "    segments_tensors = torch.tensor([segments_ids])\n",
    "    with torch.no_grad():\n",
    "        outputs = model(tokens_tensor, segments_tensors)\n",
    "        hidden_states = outputs[2]\n",
    "    token_embeddings = torch.stack(hidden_states, dim=0)\n",
    "    token_embeddings = torch.squeeze(token_embeddings, dim=1)\n",
    "    token_embeddings = token_embeddings.permute(1,0,2)\n",
    "    token_vecs_sum = []\n",
    "    for token in token_embeddings:\n",
    "        sum_vec = torch.sum(token[-4:], dim=0)\n",
    "        token_vecs_sum.append(sum_vec)\n",
    "        return token_vecs_sum[1]"
   ]
  },
  {
   "cell_type": "code",
   "execution_count": null,
   "id": "e1a76e8b",
   "metadata": {},
   "outputs": [],
   "source": [
    "print(bert_vector(\"student\"))"
   ]
  },
  {
   "cell_type": "code",
   "execution_count": null,
   "id": "4b395208",
   "metadata": {},
   "outputs": [],
   "source": []
  }
 ],
 "metadata": {
  "kernelspec": {
   "display_name": "Python 3 (ipykernel)",
   "language": "python",
   "name": "python3"
  },
  "language_info": {
   "codemirror_mode": {
    "name": "ipython",
    "version": 3
   },
   "file_extension": ".py",
   "mimetype": "text/x-python",
   "name": "python",
   "nbconvert_exporter": "python",
   "pygments_lexer": "ipython3",
   "version": "3.9.15"
  }
 },
 "nbformat": 4,
 "nbformat_minor": 5
}
