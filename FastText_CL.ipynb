{
 "cells": [
  {
   "cell_type": "code",
   "execution_count": 2,
   "id": "38989b95",
   "metadata": {},
   "outputs": [],
   "source": [
    "import fasttext.util\n",
    "ft= fasttext.load_model('/content/drive/My Drive/Colab Notebooks/toxic_dataset/cc.bn.300.bin')"
   ]
  },
  {
   "cell_type": "code",
   "execution_count": null,
   "id": "ced5927d",
   "metadata": {},
   "outputs": [],
   "source": []
  },
  {
   "cell_type": "code",
   "execution_count": null,
   "id": "f4502843",
   "metadata": {},
   "outputs": [],
   "source": [
    "def FastText_Vector(word):\n",
    "    return ft.get_word_vector(word)"
   ]
  }
 ],
 "metadata": {
  "kernelspec": {
   "display_name": "Python 3 (ipykernel)",
   "language": "python",
   "name": "python3"
  },
  "language_info": {
   "codemirror_mode": {
    "name": "ipython",
    "version": 3
   },
   "file_extension": ".py",
   "mimetype": "text/x-python",
   "name": "python",
   "nbconvert_exporter": "python",
   "pygments_lexer": "ipython3",
   "version": "3.9.15"
  }
 },
 "nbformat": 4,
 "nbformat_minor": 5
}
