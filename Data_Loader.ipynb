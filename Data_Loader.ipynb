{
 "cells": [
  {
   "cell_type": "code",
   "execution_count": 2,
   "id": "11d6c031",
   "metadata": {},
   "outputs": [],
   "source": [
    "import pandas as pd"
   ]
  },
  {
   "cell_type": "code",
   "execution_count": null,
   "id": "bb6cb304",
   "metadata": {},
   "outputs": [],
   "source": [
    "def MEN_Dataloader():\n",
    "    dataset=pd.read_csv('./dataset/menFull.csv', header=None)\n",
    "    word_list_1=[]\n",
    "    word_list_2=[]\n",
    "    gold_std=[]\n",
    "    for i in range(len(dataset[0])):\n",
    "        s=str(dataset[0][i])\n",
    "        w1 = s.split(';')[0]  \n",
    "        w2 = s.split(';')[1]  \n",
    "        val = float(s.split(';')[2])\n",
    "        word_list_1.append(w1)\n",
    "        word_list_2.append(w2)\n",
    "        gold_std.append(val)\n",
    "    return word_list_1, word_list_2, gold_std"
   ]
  },
  {
   "cell_type": "code",
   "execution_count": 3,
   "id": "7b832a2a",
   "metadata": {},
   "outputs": [],
   "source": [
    "def AN_Dataloader():\n",
    "    dataset= open('./dataset/analogy_test.txt')\n",
    "    word_list_1=[]\n",
    "    word_list_2=[]\n",
    "    word_list_3=[]\n",
    "    word_list_4=[]\n",
    "    for line in dataset:\n",
    "        if line.split(' ')[0]==':':\n",
    "            continue\n",
    "        w1 = line.split(' ')[0]  \n",
    "        w2 = line.split(' ')[1] \n",
    "        w3 = line.split(' ')[2]  \n",
    "        w4 = line.split(' ')[3]\n",
    "        word_list_1.append(w1)\n",
    "        word_list_2.append(w2)\n",
    "        word_list_3.append(w3)\n",
    "        word_list_4.append(w4)\n",
    "    return word_list_1, word_list_2, word_list_3, word_list_4"
   ]
  },
  {
   "cell_type": "code",
   "execution_count": 5,
   "id": "97cafbab",
   "metadata": {},
   "outputs": [],
   "source": [
    "def CC_Dataloader():\n",
    "    dataset= open('./dataset/esslli.txt')\n",
    "    word_list=[]\n",
    "    gold_standard_labels=[]\n",
    "    index = 0 \n",
    "    for line in dataset.readlines():  \n",
    "        word = line.split()[0]  \n",
    "        category = line.split()[1]\n",
    "        word_list.append(word)\n",
    "        gold_standard_labels.append(category)\n",
    "    return word_list, gold_standard_labels"
   ]
  },
  {
   "cell_type": "code",
   "execution_count": null,
   "id": "b559bf3b",
   "metadata": {},
   "outputs": [],
   "source": [
    "def gender_Dataloader():\n",
    "    dataset= open('./dataset/neutral_words.txt')\n",
    "    word_list=[]\n",
    "    index = 0 \n",
    "    for line in dataset.readlines():  \n",
    "        word = (line.split()[0]).strip()    \n",
    "        word_list.append(word)\n",
    "    return word_list"
   ]
  }
 ],
 "metadata": {
  "kernelspec": {
   "display_name": "Python 3 (ipykernel)",
   "language": "python",
   "name": "python3"
  },
  "language_info": {
   "codemirror_mode": {
    "name": "ipython",
    "version": 3
   },
   "file_extension": ".py",
   "mimetype": "text/x-python",
   "name": "python",
   "nbconvert_exporter": "python",
   "pygments_lexer": "ipython3",
   "version": "3.9.15"
  }
 },
 "nbformat": 4,
 "nbformat_minor": 5
}
